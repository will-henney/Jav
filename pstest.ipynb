from turbustat.statistics import PowerSpectrum
from astropy.io import fits
from matplotlib import pyplot as plt
import seaborn as sns
import pandas as pd
import math
import numpy as np
import pylab as pl
from IPython import display
import time
import random
import scipy.fftpack
from mpl_toolkits.mplot3d import Axes3D
from scipy import signal
from scipy import interpolate


df1=pd.read_table('datos.txt')
df1=df1.round(2)
df1n=df1.to_numpy()
df2=df1.pivot(index='YCoord', columns='XCoord', values='VradHa')
df2n=df2.to_numpy()


plt.cla()
sns.heatmap(df2)
plt.gca().invert_yaxis()
plt.savefig('HM.png')
#plt.show()


#  2D FFT
FT2 = scipy.fftpack.fftshift(scipy.fftpack.fft2(df2))

powr2 = np.abs(FT2)
phas2 = np.angle(FT2)


pl.cla()
plt.subplot2grid((1,2),(0,0))
plt.contourf(df2)
plt.subplot2grid((2,2),(0,1))
plt.contourf(powr2)
plt.subplot2grid((2,2),(1,1))
plt.contourf(phas2)

plt.savefig('PS.png')
#plt.show()


#PS turbustat
plt.cla()
hdu=fits.PrimaryHDU(data=df2)
hdu.writeto('vel.fits')
plt.close()
moment0 = fits.open("vel.fits")[0]  # doctest: +SKIP
pspec = PowerSpectrum(moment0)  # doctest: +SKIP
pspec.run(verbose=True, save_name='PSturbu', use_wavenumber=True)  # doctest: +SKIP
